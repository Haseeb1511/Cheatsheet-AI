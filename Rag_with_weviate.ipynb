{
 "cells": [
  {
   "cell_type": "code",
   "execution_count": 9,
   "metadata": {
    "id": "GrjCTjh6L4e4"
   },
   "outputs": [],
   "source": [
    "!pip install -q weaviate-client langchain sentence-transformers langchain_community langchain_huggingface weaviate PyPDF langchain_groq"
   ]
  },
  {
   "cell_type": "code",
   "execution_count": 10,
   "metadata": {
    "id": "0ttMpRdf0d8A"
   },
   "outputs": [],
   "source": [
    "!pip install -q weaviate-client==3.25.0"
   ]
  },
  {
   "cell_type": "code",
   "execution_count": 22,
   "metadata": {
    "id": "QBNPzteLkeNI"
   },
   "outputs": [],
   "source": [
    "from langchain.vectorstores import Weaviate\n",
    "from langchain.text_splitter import RecursiveCharacterTextSplitter\n",
    "from langchain_community.document_loaders import PyPDFLoader\n",
    "from langchain_huggingface import HuggingFaceEmbeddings\n",
    "from langchain_groq import ChatGroq\n",
    "import weaviate\n",
    "from weaviate import Client\n",
    "from weaviate.auth import AuthApiKey"
   ]
  },
  {
   "cell_type": "code",
   "execution_count": 23,
   "metadata": {
    "colab": {
     "base_uri": "https://localhost:8080/"
    },
    "id": "hNJKGHKs0ASH",
    "outputId": "eeb6f925-3db2-4d61-be2e-51665638b4c7"
   },
   "outputs": [
    {
     "name": "stdout",
     "output_type": "stream",
     "text": [
      "✅ Weaviate client ready: True\n"
     ]
    }
   ],
   "source": [
    "import weaviate\n",
    "from weaviate.auth import AuthApiKey\n",
    "\n",
    "url = \"kankwffoqpchpczgosk3a.c0.asia-southeast1.gcp.weaviate.cloud\"  # Replace with your cluster URL\n",
    "api_key = \"qmwoMQ4AGyGZ9ZovKLTTiq2s628ilw0bovOF\"       # Replace with your Weaviate API key\n",
    "\n",
    "client = weaviate.Client(\n",
    "    url=\"https://kankwffoqpchpczgosk3a.c0.asia-southeast1.gcp.weaviate.cloud\",\n",
    "    auth_client_secret=AuthApiKey(api_key)\n",
    ")\n",
    "print(\"✅ Weaviate client ready:\", client.is_ready())"
   ]
  },
  {
   "cell_type": "code",
   "execution_count": 24,
   "metadata": {
    "id": "C1z89IXRdsTI"
   },
   "outputs": [],
   "source": [
    "loader = PyPDFLoader(\"law.pdf\")\n",
    "doc = loader.load()"
   ]
  },
  {
   "cell_type": "code",
   "execution_count": 25,
   "metadata": {
    "id": "ybQwPAeudsW3"
   },
   "outputs": [],
   "source": [
    "splitter = RecursiveCharacterTextSplitter(chunk_size=800,chunk_overlap=170)\n",
    "chunks = splitter.split_documents(doc)"
   ]
  },
  {
   "cell_type": "code",
   "execution_count": 26,
   "metadata": {
    "id": "F_od6W4hekwJ"
   },
   "outputs": [],
   "source": [
    "embedding = HuggingFaceEmbeddings(model_name=\"sentence-transformers/all-MiniLM-L6-v2\")"
   ]
  },
  {
   "cell_type": "code",
   "execution_count": 27,
   "metadata": {
    "id": "ZT0ePAPQuWow"
   },
   "outputs": [],
   "source": [
    "vectorstore = Weaviate.from_documents(\n",
    "    embedding=embedding,\n",
    "    documents=chunks,  # Your documents (chunks)\n",
    "    client=client  # Weaviate client\n",
    ")"
   ]
  },
  {
   "cell_type": "code",
   "execution_count": 29,
   "metadata": {
    "id": "sAVXE-uDOvM8"
   },
   "outputs": [],
   "source": [
    "retriever = vectorstore.as_retriever(search_type=\"similarity\",search_kwargs={\"K\":3})"
   ]
  },
  {
   "cell_type": "code",
   "execution_count": 30,
   "metadata": {
    "id": "_-B7V-MYOvPb"
   },
   "outputs": [],
   "source": [
    "from google.colab import userdata\n",
    "import os\n",
    "api = userdata.get('GROQ_API_KEY')\n",
    "os.environ[\"GROQ_API_KEY\"]=api"
   ]
  },
  {
   "cell_type": "code",
   "execution_count": 35,
   "metadata": {
    "id": "xExrgoZNf9V-"
   },
   "outputs": [],
   "source": [
    "model = ChatGroq(model=\"gemma2-9b-it\")"
   ]
  },
  {
   "cell_type": "code",
   "execution_count": 36,
   "metadata": {
    "id": "e2D4QmG8gT5l"
   },
   "outputs": [],
   "source": [
    "from langchain_core.runnables import RunnableParallel,RunnablePassthrough,RunnableLambda\n",
    "from langchain_core.output_parsers import StrOutputParser\n",
    "from langchain_core.prompts import PromptTemplate\n",
    "parser = StrOutputParser()\n",
    "\n",
    "prompt = PromptTemplate(\n",
    "    template=\"\"\"You are a highly accurate assistant.\n",
    "        Use ONLY the given context to answer the user's question.\n",
    "        If the context does not contain the information needed, simply reply:\n",
    "        \"I don't know based on the given context.\"\n",
    "        CONTEXT:\n",
    "        {context}\n",
    "        QUESTION:\n",
    "        {question}\n",
    "        Your Answer:\"\"\",\n",
    "input_variables=[\"context\", \"question\"])\n",
    "\n",
    "def context(docs):\n",
    "  return \"\\n\\n\".join(doc.page_content for doc in docs)\n",
    "\n",
    "parallel_chain = RunnableParallel({\n",
    "    \"context\":retriever | RunnableLambda(context),\n",
    "    \"question\":RunnablePassthrough()\n",
    "})\n"
   ]
  },
  {
   "cell_type": "code",
   "execution_count": 37,
   "metadata": {
    "id": "U2xIs59A7gm9"
   },
   "outputs": [],
   "source": [
    "chain = parallel_chain | prompt | model | parser"
   ]
  },
  {
   "cell_type": "code",
   "execution_count": 38,
   "metadata": {
    "colab": {
     "base_uri": "https://localhost:8080/",
     "height": 70
    },
    "id": "V9PIs_LF85sC",
    "outputId": "b872bd70-a9e6-4faf-d072-810825690777"
   },
   "outputs": [
    {
     "data": {
      "application/vnd.google.colaboratory.intrinsic+json": {
       "type": "string"
      },
      "text/plain": [
       "'This text appears to be a table of contents for a legal document, possibly the Constitution of Pakistan. \\n\\nIt outlines several parts and chapters, focusing on areas like finance, property, contracts, services, armed forces, and interpretation.  The document mentions amendments and additions made to specific articles, highlighting changes over time. \\n\\n\\n'"
      ]
     },
     "execution_count": 38,
     "metadata": {},
     "output_type": "execute_result"
    }
   ],
   "source": [
    "query = \"summary of the text\"\n",
    "chain.invoke(query)"
   ]
  },
  {
   "cell_type": "code",
   "execution_count": null,
   "metadata": {
    "id": "s6g6TS2g9Ar8"
   },
   "outputs": [],
   "source": []
  }
 ],
 "metadata": {
  "colab": {
   "provenance": []
  },
  "kernelspec": {
   "display_name": "Python 3",
   "name": "python3"
  },
  "language_info": {
   "name": "python"
  }
 },
 "nbformat": 4,
 "nbformat_minor": 0
}
