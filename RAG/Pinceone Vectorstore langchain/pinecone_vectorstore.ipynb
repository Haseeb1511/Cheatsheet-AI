{
 "cells": [
  {
   "cell_type": "code",
   "execution_count": null,
   "id": "9899d33a",
   "metadata": {
    "vscode": {
     "languageId": "plaintext"
    }
   },
   "outputs": [],
   "source": [
    "from pinecone import Pinecone,ServerlessSpec\n",
    "import os\n",
    "\n",
    "api = os.getenv(\"PINECONE_API_KEY\")\n",
    "env = os.getenv(\"PINECONE_ENV\")\n",
    "\n",
    "pc = Pinecone(api_key=api)\n",
    "\n",
    "if \"multimodal-rag\" not in pc.list_indexes().names():\n",
    "    pc.create_index(\n",
    "        dimension=768,\n",
    "        name=\"multimodal-rag\",\n",
    "        metric=\"cosine\",\n",
    "        spec=ServerlessSpec(\n",
    "            cloud=\"aws\",\n",
    "            region=\"us-east-1\"\n",
    "        )\n",
    "    )\n",
    "print(\"connected to pinecone database\")"
   ]
  },
  {
   "cell_type": "code",
   "execution_count": null,
   "id": "f1076980",
   "metadata": {
    "vscode": {
     "languageId": "plaintext"
    }
   },
   "outputs": [],
   "source": [
    "from tqdm import tqdm     # tqdm is a progress bar library that helps you visualize loops.\n",
    "\n",
    "batch_size=50\n",
    "for i in tqdm(range(0,len(biology_chunks),batch_size)):       # as size of chunks is larger than 4mb we embedd the data in batches\n",
    "    batch = biology_chunks[i:i+batch_size]\n",
    "    Biology_vector_store = PineconeVectorStore.from_documents(\n",
    "        documents=batch,\n",
    "        embedding=embedding_model,\n",
    "        index_name=\"multimodal-rag\"\n",
    "    )"
   ]
  },
  {
   "cell_type": "code",
   "execution_count": null,
   "id": "22bb6c5d",
   "metadata": {
    "vscode": {
     "languageId": "plaintext"
    }
   },
   "outputs": [],
   "source": [
    "vector_store = PineconeVectorStore(\n",
    "    index_name=\"multimodal-rag\",\n",
    "    embedding=embedding_model,\n",
    ")"
   ]
  },
  {
   "cell_type": "code",
   "execution_count": null,
   "id": "212251cb",
   "metadata": {
    "vscode": {
     "languageId": "plaintext"
    }
   },
   "outputs": [],
   "source": []
  }
 ],
 "metadata": {
  "language_info": {
   "name": "python"
  }
 },
 "nbformat": 4,
 "nbformat_minor": 5
}
