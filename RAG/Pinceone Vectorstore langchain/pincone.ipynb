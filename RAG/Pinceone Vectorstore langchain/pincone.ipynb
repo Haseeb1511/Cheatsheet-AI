{
 "cells": [
  {
   "cell_type": "code",
   "execution_count": 60,
   "id": "c2c77324",
   "metadata": {},
   "outputs": [
    {
     "data": {
      "text/plain": [
       "True"
      ]
     },
     "execution_count": 60,
     "metadata": {},
     "output_type": "execute_result"
    }
   ],
   "source": [
    "from langchain_pinecone import PineconeVectorStore\n",
    "from langchain_community.document_loaders import DirectoryLoader,PyPDFLoader\n",
    "from langchain.text_splitter import RecursiveCharacterTextSplitter\n",
    "from langchain_core.runnables import RunnableParallel,RunnablePassthrough,RunnableLambda\n",
    "from langchain_google_genai import ChatGoogleGenerativeAI,GoogleGenerativeAIEmbeddings\n",
    "from langchain.prompts import PromptTemplate\n",
    "from langchain_core.output_parsers import StrOutputParser\n",
    "import os\n",
    "from dotenv import load_dotenv\n",
    "load_dotenv()"
   ]
  },
  {
   "cell_type": "code",
   "execution_count": null,
   "id": "277b4674",
   "metadata": {},
   "outputs": [],
   "source": [
    "from pinecone import ServerlessSpec,Pinecone\n",
    "\n",
    "api = os.getenv(\"PINECONE_API_KEY\")\n",
    "index = os.getenv(\"PINECONE_INDEX\")\n",
    "pc_env = os.getenv(\"PINECONE_ENV\")\n",
    "\n",
    "pc = Pinecone(api_key=api)\n",
    "# pc_index = pc.Index(\"umer\")\n",
    "\n",
    "\n",
    "# for creating pincone if not already created\n",
    "if index not in pc.list_indexes().names():\n",
    "    pc.create_index(\n",
    "        name=\"umer\",\n",
    "        dimension=768,\n",
    "        metric=\"cosine\",\n",
    "        spec=ServerlessSpec(cloud=\"aws\",region=\"us-east-1\")\n",
    "    )\n",
    "pc_index = pc.Index(\"umer\")"
   ]
  },
  {
   "cell_type": "markdown",
   "id": "68e7c654",
   "metadata": {},
   "source": [
    "### Delete Pincone Vectorstore "
   ]
  },
  {
   "cell_type": "code",
   "execution_count": null,
   "id": "917b3683",
   "metadata": {},
   "outputs": [
    {
     "data": {
      "text/plain": [
       "{}"
      ]
     },
     "execution_count": 83,
     "metadata": {},
     "output_type": "execute_result"
    }
   ],
   "source": [
    "import pinecone\n",
    "\n",
    "pc = Pinecone(api_key=api)\n",
    "pc_index = pc.Index(index)\n",
    "\n",
    "# Delete by ID\n",
    "# pc_index.delete(ids=[\"id1\", \"id2\", \"id3\"])\n",
    "\n",
    "#Delete by Filter (if you added metadata)\n",
    "# index.delete(filter={\"doc_id\": \"your_doc_id\"})\n",
    "\n",
    "# to delete all\n",
    "pc_index.delete(delete_all=True)"
   ]
  },
  {
   "cell_type": "code",
   "execution_count": 86,
   "id": "c2155171",
   "metadata": {},
   "outputs": [],
   "source": [
    "embedding_model = GoogleGenerativeAIEmbeddings(model=\"models/embedding-001\")\n",
    "model = ChatGoogleGenerativeAI(model=\"gemini-2.0-flash\")\n",
    "parser = StrOutputParser()\n"
   ]
  },
  {
   "cell_type": "code",
   "execution_count": 89,
   "id": "1f8fa966",
   "metadata": {},
   "outputs": [
    {
     "name": "stdout",
     "output_type": "stream",
     "text": [
      "len: 108\n"
     ]
    }
   ],
   "source": [
    "path_to_data = \"data/\"\n",
    "def doc_load(path):\n",
    "    return DirectoryLoader(path,glob=\"*.pdf\",loader_cls=PyPDFLoader).load()\n",
    "document = doc_load(path_to_data)\n",
    "print(\"len:\",len(document))"
   ]
  },
  {
   "cell_type": "code",
   "execution_count": 90,
   "id": "13ed8301",
   "metadata": {},
   "outputs": [
    {
     "name": "stdout",
     "output_type": "stream",
     "text": [
      "len of chunk: 227\n"
     ]
    }
   ],
   "source": [
    "def text_splitter(doc):\n",
    "    return RecursiveCharacterTextSplitter(chunk_size=1300,chunk_overlap=300).split_documents(doc)\n",
    "chunks = text_splitter(document)\n",
    "print(\"len of chunk:\",len(chunks))"
   ]
  },
  {
   "cell_type": "code",
   "execution_count": 92,
   "metadata": {},
   "outputs": [],
   "source": [
    "vector_store = PineconeVectorStore.from_documents(\n",
    "    documents=chunks,\n",
    "    embedding=embedding_model,\n",
    "    index_name=\"umer\"    #  just name of the index\n",
    ")"
   ]
  },
  {
   "cell_type": "code",
   "execution_count": null,
   "id": "58463fb7",
   "metadata": {},
   "outputs": [],
   "source": [
    "# # Load existing Pinecone index into a LangChain-compatible vector store\n",
    "# vector_store = PineconeVectorStore(\n",
    "#     index_name=index_name,\n",
    "#     embedding=embedding_model,\n",
    "#     api_key=api_key,\n",
    "#     environment=environment,\n",
    "# )"
   ]
  },
  {
   "cell_type": "code",
   "execution_count": 93,
   "id": "c3f80f74",
   "metadata": {},
   "outputs": [],
   "source": [
    "retriever = vector_store.as_retriever(search_kwargs={\"k\":3})"
   ]
  },
  {
   "cell_type": "code",
   "execution_count": 98,
   "metadata": {},
   "outputs": [],
   "source": [
    "prompt = PromptTemplate(\n",
    "            template=\"\"\"You are a highly accurate AI assistant.\n",
    "                Use ONLY the given context to answer the user's question.\n",
    "                If the context does not contain the information needed, simply reply:\n",
    "                \"I don't know based on the given context.\"\n",
    "                CONTEXT:\n",
    "                {context}\n",
    "                QUESTION:\n",
    "                {question}\n",
    "                Your Answer:\n",
    "                \"\"\",\n",
    "        input_variables=[\"context\", \"question\"])"
   ]
  },
  {
   "cell_type": "code",
   "execution_count": 99,
   "id": "2477bd86",
   "metadata": {},
   "outputs": [],
   "source": [
    "def cleaner(document):\n",
    "    return \"\\n\\n\".join(doc.page_content for doc in document)\n",
    "\n",
    "parallel_chain = RunnableParallel({\n",
    "    \"context\":retriever | RunnableLambda(cleaner),\n",
    "    \"question\":RunnablePassthrough()\n",
    "})\n",
    "\n",
    "chain = parallel_chain | prompt | model | parser\n"
   ]
  },
  {
   "cell_type": "code",
   "execution_count": 105,
   "id": "3a9f9563",
   "metadata": {},
   "outputs": [
    {
     "data": {
      "text/markdown": [
       "two nation theory, which when later taken up by Quaid-e-Azam and the Muslim League led to the creation of Pakistan."
      ],
      "text/plain": [
       "<IPython.core.display.Markdown object>"
      ]
     },
     "metadata": {},
     "output_type": "display_data"
    }
   ],
   "source": [
    "from IPython.display import Markdown,display\n",
    "result = chain.invoke(\"what played the role in creation of pakistan\")\n",
    "display(Markdown(result))"
   ]
  },
  {
   "cell_type": "code",
   "execution_count": 103,
   "id": "1b8ea2ba",
   "metadata": {},
   "outputs": [
    {
     "data": {
      "text/markdown": [
       "British were determined to punish Turkey for supporting Germany, Gandhi ended his support after the Chauri-Chaura incident, the Hijrat Movement, and Turkey abolished the Caliphate. Following the growth of violence (Moplah uprising) and particularly the Chauri Chaura incident with the murder of twenty-two policemen, Gandhi withdrew his support. The Hijrat Movement, Muslim migration to Afghanistan, was a tragic failure when Afghanistan turned them back and they returned home disappointed and homeless. With British support Turkey became a Republic (1923) and President Ataturk abolished the Caliphate (1924), and so any further campaigning was pointless."
      ],
      "text/plain": [
       "<IPython.core.display.Markdown object>"
      ]
     },
     "metadata": {},
     "output_type": "display_data"
    }
   ],
   "source": [
    "from IPython.display import Markdown,display\n",
    "result = chain.invoke(\"\"\"What do you think was the most important reason for the failure of the \n",
    "Khilafat Movement\"\"\")\n",
    "display(Markdown(result))"
   ]
  },
  {
   "cell_type": "code",
   "execution_count": null,
   "id": "266147bb",
   "metadata": {},
   "outputs": [],
   "source": []
  }
 ],
 "metadata": {
  "kernelspec": {
   "display_name": "venv",
   "language": "python",
   "name": "python3"
  },
  "language_info": {
   "codemirror_mode": {
    "name": "ipython",
    "version": 3
   },
   "file_extension": ".py",
   "mimetype": "text/x-python",
   "name": "python",
   "nbconvert_exporter": "python",
   "pygments_lexer": "ipython3",
   "version": "3.12.7"
  }
 },
 "nbformat": 4,
 "nbformat_minor": 5
}
