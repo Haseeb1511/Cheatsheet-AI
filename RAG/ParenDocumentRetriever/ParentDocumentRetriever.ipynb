{
 "cells": [
  {
   "cell_type": "code",
   "execution_count": null,
   "id": "9b8b5dde",
   "metadata": {},
   "outputs": [
    {
     "data": {
      "text/plain": [
       "True"
      ]
     },
     "execution_count": 33,
     "metadata": {},
     "output_type": "execute_result"
    }
   ],
   "source": [
    "from langchain_google_genai import ChatGoogleGenerativeAI,GoogleGenerativeAIEmbeddings\n",
    "from langchain_core.prompts import PromptTemplate\n",
    "from langchain_community.document_loaders import PyPDFDirectoryLoader\n",
    "from langchain.text_splitter import RecursiveCharacterTextSplitter\n",
    "from langchain_community.vectorstores import Chroma\n",
    "from langchain_core.runnables import RunnablePassthrough,RunnableParallel,RunnableLambda\n",
    "from chromadb import chromadb\n",
    "from dotenv import load_dotenv\n",
    "load_dotenv()\n",
    "\n",
    "# Parent document retriever does not work with FAISS vector store as it cant create empty vector store"
   ]
  },
  {
   "cell_type": "code",
   "execution_count": null,
   "id": "fa24835a",
   "metadata": {},
   "outputs": [],
   "source": [
    "loader = PyPDFDirectoryLoader(path=\"data/\",glob=\"*.pdf\")\n",
    "doc = loader.load()\n",
    "parent_splitter = RecursiveCharacterTextSplitter(chunk_size=300,chunk_overlap=50)\n",
    "child_splitter = RecursiveCharacterTextSplitter(chunk_size=100,chunk_overlap=20)\n",
    "embedding_model = GoogleGenerativeAIEmbeddings(model=\"models/embedding-001\")\n",
    "model = ChatGoogleGenerativeAI(model=\"gemini-2.0-flash\")\n",
    "vector_store = Chroma(embedding_function=embedding_model,collection_name=\"haseeb\")\n",
    "store = InMemoryStore()  # stores parent docs in memory\n",
    "retriever = ParentDocumentRetriever(\n",
    "    vectorstore=vector_store,\n",
    "    docstore=store,\n",
    "    child_splitter=child_splitter,\n",
    "    parent_splitter=parent_splitter\n",
    ")\n",
    "\n",
    "retriever.add_documents(doc)"
   ]
  },
  {
   "cell_type": "code",
   "execution_count": 15,
   "id": "6a035ffd",
   "metadata": {},
   "outputs": [],
   "source": [
    "loader = PyPDFDirectoryLoader(path=\"data/\",glob=\"*.pdf\")\n",
    "doc = loader.load()"
   ]
  },
  {
   "cell_type": "code",
   "execution_count": 16,
   "metadata": {},
   "outputs": [],
   "source": [
    "parent_splitter = RecursiveCharacterTextSplitter(chunk_size=300,chunk_overlap=50)\n",
    "child_splitter = RecursiveCharacterTextSplitter(chunk_size=100,chunk_overlap=20)"
   ]
  },
  {
   "cell_type": "code",
   "execution_count": 17,
   "id": "726e7c8f",
   "metadata": {},
   "outputs": [],
   "source": [
    "embedding_model = GoogleGenerativeAIEmbeddings(model=\"models/embedding-001\")\n",
    "model = ChatGoogleGenerativeAI(model=\"gemini-2.0-flash\")"
   ]
  },
  {
   "cell_type": "code",
   "execution_count": 34,
   "id": "1dda250d",
   "metadata": {},
   "outputs": [
    {
     "name": "stderr",
     "output_type": "stream",
     "text": [
      "C:\\Users\\hasee\\AppData\\Local\\Temp\\ipykernel_9552\\1677199839.py:1: LangChainDeprecationWarning: The class `Chroma` was deprecated in LangChain 0.2.9 and will be removed in 1.0. An updated version of the class exists in the :class:`~langchain-chroma package and should be used instead. To use it run `pip install -U :class:`~langchain-chroma` and import as `from :class:`~langchain_chroma import Chroma``.\n",
      "  vector_store = Chroma(embedding_function=embedding_model,collection_name=\"haseeb\")\n"
     ]
    }
   ],
   "source": [
    "vector_store = Chroma(embedding_function=embedding_model,collection_name=\"haseeb\")"
   ]
  },
  {
   "cell_type": "code",
   "execution_count": 36,
   "id": "e3e48c1c",
   "metadata": {},
   "outputs": [],
   "source": [
    "from langchain.storage import InMemoryStore\n",
    "store = InMemoryStore()  # stores parent docs in memory"
   ]
  },
  {
   "cell_type": "code",
   "execution_count": 47,
   "id": "5b435543",
   "metadata": {},
   "outputs": [],
   "source": [
    "from langchain.retrievers import ParentDocumentRetriever\n",
    "\n",
    "retriever = ParentDocumentRetriever(\n",
    "    vectorstore=vector_store,\n",
    "    docstore=store,\n",
    "    child_splitter=child_splitter,\n",
    "    parent_splitter=parent_splitter,search_kwargs={\"k\":3},search_type=\"mmr\"\n",
    ")\n",
    "\n",
    "retriever.add_documents(doc)"
   ]
  },
  {
   "cell_type": "code",
   "execution_count": 48,
   "id": "0f6d397b",
   "metadata": {},
   "outputs": [],
   "source": [
    "def clean(document):\n",
    "    return \"\\n\\n\".join(doc.page_content for doc in document)\n",
    "\n",
    "from IPython.display import Markdown,display"
   ]
  },
  {
   "cell_type": "code",
   "execution_count": 49,
   "id": "1237ced4",
   "metadata": {},
   "outputs": [
    {
     "data": {
      "text/markdown": [
       "account is not allowed. In case you have erroneously made the transaction, immediately share the\n",
       "deposit receipt on fee.affairs@nust.edu.pk for verification along with your GNET credentials.\n",
       "19/03/2025, 16:27 gnet.nust.edu.pk/Application/GNETChallanform.aspx\n",
       "\n",
       "deposit receipt on fee.affairs@nust.edu.pk for verification along with your GNET credentials.\n",
       "Fee Invoice- Session GNET-2025 (Series-2) CANDIDATE'S COPY\n",
       "National University of Sciences & Technology, Sector H-12, Islamabad\n",
       " \n",
       "Date: ___/_____/___ Last Date of Fee Submission: 31 Mar 2025\n",
       "\n",
       "Date: ___/_____/___ Last Date of Fee Submission: 31 Mar 2025\n",
       "Cash Receiving Branch Name/Code No:\n",
       "A/c Title: NUST Admission Processing Fee MCA  \n",
       "A/c No. 0042-79001976-03 Habib Bank Limited\n",
       "For Bank Staff: Fee Invoice #, Candidate's Name, Father's Name and Amount are mandatory fields."
      ],
      "text/plain": [
       "<IPython.core.display.Markdown object>"
      ]
     },
     "metadata": {},
     "output_type": "display_data"
    }
   ],
   "source": [
    "ans = retriever.invoke(\"gat test date\")\n",
    "display(Markdown(clean(ans)))"
   ]
  },
  {
   "cell_type": "code",
   "execution_count": null,
   "id": "ef526e22",
   "metadata": {},
   "outputs": [],
   "source": []
  }
 ],
 "metadata": {
  "kernelspec": {
   "display_name": "venv",
   "language": "python",
   "name": "python3"
  },
  "language_info": {
   "codemirror_mode": {
    "name": "ipython",
    "version": 3
   },
   "file_extension": ".py",
   "mimetype": "text/x-python",
   "name": "python",
   "nbconvert_exporter": "python",
   "pygments_lexer": "ipython3",
   "version": "3.12.7"
  }
 },
 "nbformat": 4,
 "nbformat_minor": 5
}
