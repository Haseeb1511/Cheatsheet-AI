{
 "cells": [
  {
   "cell_type": "code",
   "execution_count": 16,
   "id": "23fd004b",
   "metadata": {},
   "outputs": [
    {
     "data": {
      "text/plain": [
       "True"
      ]
     },
     "execution_count": 16,
     "metadata": {},
     "output_type": "execute_result"
    }
   ],
   "source": [
    "from langchain_community.document_loaders import PyPDFDirectoryLoader,PyPDFLoader\n",
    "from langchain.text_splitter import RecursiveCharacterTextSplitter\n",
    "from langchain_community.vectorstores import FAISS\n",
    "from langchain_google_genai import ChatGoogleGenerativeAI,GoogleGenerativeAIEmbeddings\n",
    "from dotenv import load_dotenv\n",
    "load_dotenv()\n"
   ]
  },
  {
   "cell_type": "code",
   "execution_count": 8,
   "id": "acf67bc3",
   "metadata": {},
   "outputs": [],
   "source": [
    "file = PyPDFDirectoryLoader(\n",
    "    path=\"./data\",\n",
    "    glob=\"*.pdf\"\n",
    ")\n",
    "document = file.load()"
   ]
  },
  {
   "cell_type": "code",
   "execution_count": 13,
   "id": "ae778f1b",
   "metadata": {},
   "outputs": [],
   "source": [
    "chunks = RecursiveCharacterTextSplitter(chunk_size=100,chunk_overlap=50).split_documents(document)\n"
   ]
  },
  {
   "cell_type": "code",
   "execution_count": null,
   "id": "2ec44fd1",
   "metadata": {},
   "outputs": [],
   "source": [
    "embedding_model = GoogleGenerativeAIEmbeddings(model=\"models/embedding-001\")\n",
    "model = ChatGoogleGenerativeAI(model=\"gemini-2.0-flash\")"
   ]
  },
  {
   "cell_type": "code",
   "execution_count": 21,
   "id": "ff56d360",
   "metadata": {},
   "outputs": [],
   "source": [
    "vector_store = FAISS.from_documents(embedding=embedding_model , documents=chunks)\n",
    "vector_store.save_local(folder_path=\"./vector_store\")"
   ]
  },
  {
   "cell_type": "code",
   "execution_count": 23,
   "id": "daa83c65",
   "metadata": {},
   "outputs": [],
   "source": [
    "vector_store = FAISS.load_local(embeddings=embedding_model,folder_path=\"./vector_store\",allow_dangerous_deserialization=True)"
   ]
  },
  {
   "cell_type": "code",
   "execution_count": null,
   "id": "a2611220",
   "metadata": {},
   "outputs": [
    {
     "data": {
      "text/plain": [
       "[Document(id='7bb002e3-0f6f-4c3f-8aca-9ce26a050992', metadata={'producer': 'Skia/PDF m135', 'creator': 'Mozilla/5.0 (Windows NT 10.0; Win64; x64) AppleWebKit/537.36 (KHTML, like Gecko) Chrome/135.0.0.0 Safari/537.36', 'creationdate': '2025-05-06T08:08:24+00:00', 'title': 'NTS - Candidate (Portal)', 'moddate': '2025-05-06T08:08:24+00:00', 'source': 'data\\\\NTS - Candidate (Portal).pdf', 'total_pages': 1, 'page': 0, 'page_label': '1'}, page_content='Post  Name :\\xa0 \\xa0 GAT  - General\\nPaper  Type :\\xa0 \\xa0 GAT - A\\nTest  Date :\\xa0 \\xa0 Saturday  10th  May,  2025'),\n",
       " Document(id='a986b287-fc11-493b-b32e-6de59fa03846', metadata={'producer': 'Skia/PDF m135', 'creator': 'Mozilla/5.0 (Windows NT 10.0; Win64; x64) AppleWebKit/537.36 (KHTML, like Gecko) Chrome/135.0.0.0 Safari/537.36', 'creationdate': '2025-05-06T08:08:24+00:00', 'title': 'NTS - Candidate (Portal)', 'moddate': '2025-05-06T08:08:24+00:00', 'source': 'data\\\\NTS - Candidate (Portal).pdf', 'total_pages': 1, 'page': 0, 'page_label': '1'}, page_content='Test  Date :\\xa0 \\xa0 Saturday  10th  May,  2025\\nReporting  Time :\\xa0 \\xa0 2 : 00  PM'),\n",
       " Document(id='c4ff74e2-4416-41db-a79e-15afaab14656', metadata={'producer': 'Skia/PDF m135', 'creator': 'Mozilla/5.0 (Windows NT 10.0; Win64; x64) AppleWebKit/537.36 (KHTML, like Gecko) Chrome/135.0.0.0 Safari/537.36', 'creationdate': '2025-05-06T08:08:24+00:00', 'title': 'NTS - Candidate (Portal)', 'moddate': '2025-05-06T08:08:24+00:00', 'source': 'data\\\\NTS - Candidate (Portal).pdf', 'total_pages': 1, 'page': 0, 'page_label': '1'}, page_content='Graduate Assessment Test\\n(GAT General 2025-III)\\n(Roll Number Slip)'),\n",
       " Document(id='430ad26c-4510-479e-8e36-d70437a7dd1b', metadata={'producer': 'Skia/PDF m135', 'creator': 'Mozilla/5.0 (Windows NT 10.0; Win64; x64) AppleWebKit/537.36 (KHTML, like Gecko) Chrome/135.0.0.0 Safari/537.36', 'creationdate': '2025-05-06T08:08:24+00:00', 'title': 'NTS - Candidate (Portal)', 'moddate': '2025-05-06T08:08:24+00:00', 'source': 'data\\\\NTS - Candidate (Portal).pdf', 'total_pages': 1, 'page': 0, 'page_label': '1'}, page_content='Mobile collection facility will not be provided at test center.')]"
      ]
     },
     "execution_count": 24,
     "metadata": {},
     "output_type": "execute_result"
    }
   ],
   "source": [
    "vector_store.similarity_search(\"gat test date\")"
   ]
  },
  {
   "cell_type": "code",
   "execution_count": 26,
   "id": "7965de6c",
   "metadata": {},
   "outputs": [],
   "source": [
    "retriever = vector_store.as_retriever(serch_type=\"mmr\",search_kwargs={\"k\":3})"
   ]
  },
  {
   "cell_type": "code",
   "execution_count": 29,
   "id": "bc25a20c",
   "metadata": {},
   "outputs": [
    {
     "data": {
      "text/markdown": [
       "Post  Name :    GAT  - General\n",
       "Paper  Type :    GAT - A\n",
       "Test  Date :    Saturday  10th  May,  2025\n",
       "\n",
       "Test  Date :    Saturday  10th  May,  2025\n",
       "Reporting  Time :    2 : 00  PM\n",
       "\n",
       "Graduate Assessment Test\n",
       "(GAT General 2025-III)\n",
       "(Roll Number Slip)"
      ],
      "text/plain": [
       "<IPython.core.display.Markdown object>"
      ]
     },
     "metadata": {},
     "output_type": "display_data"
    }
   ],
   "source": [
    "def clean(document):\n",
    "    return \"\\n\\n\".join(doc.page_content for doc in document)\n",
    "\n",
    "from IPython.display import display,Markdown\n",
    "display(Markdown(clean(retriever.invoke(\"gat test date\"))))"
   ]
  },
  {
   "cell_type": "code",
   "execution_count": 32,
   "id": "8b272260",
   "metadata": {},
   "outputs": [],
   "source": [
    "from langchain_core.prompts import PromptTemplate\n",
    "\n",
    "prompt = PromptTemplate(\n",
    "    template=\"\"\"anser the question from the given text \\n\n",
    "    {context}\n",
    "\n",
    "    {query}\n",
    "    \"\"\",\n",
    "    input_variables=[\"context\",\"query\"]\n",
    "\n",
    ")\n",
    "from langchain_core.output_parsers import StrOutputParser\n",
    "parser = StrOutputParser()"
   ]
  },
  {
   "cell_type": "code",
   "execution_count": 36,
   "id": "eb2db790",
   "metadata": {},
   "outputs": [
    {
     "data": {
      "text/plain": [
       "'The GAT test date is Saturday, 10th May, 2025.'"
      ]
     },
     "execution_count": 36,
     "metadata": {},
     "output_type": "execute_result"
    }
   ],
   "source": [
    "from langchain_core.runnables import RunnablePassthrough,RunnableLambda,RunnableParallel\n",
    "\n",
    "chain = RunnableParallel({\n",
    "    \"context\":retriever | RunnableLambda(clean),\n",
    "    \"query\":RunnablePassthrough()\n",
    "    \n",
    "})\n",
    "\n",
    "f = chain | prompt | model | parser\n",
    "f.invoke(\"gat test date\")"
   ]
  },
  {
   "cell_type": "code",
   "execution_count": 37,
   "id": "3145dd2d",
   "metadata": {},
   "outputs": [],
   "source": [
    "from langchain.chains.query_constructor.base import StructuredQueryOutputParser,get_query_constructor_prompt"
   ]
  },
  {
   "cell_type": "code",
   "execution_count": null,
   "id": "7348c7bc",
   "metadata": {},
   "outputs": [
    {
     "data": {
      "text/plain": [
       "<function langchain.chains.query_constructor.base.get_query_constructor_prompt(document_contents: 'str', attribute_info: 'Sequence[Union[AttributeInfo, dict]]', *, examples: 'Optional[Sequence]' = None, allowed_comparators: 'Sequence[Comparator]' = (<Comparator.EQ: 'eq'>, <Comparator.NE: 'ne'>, <Comparator.GT: 'gt'>, <Comparator.GTE: 'gte'>, <Comparator.LT: 'lt'>, <Comparator.LTE: 'lte'>, <Comparator.CONTAIN: 'contain'>, <Comparator.LIKE: 'like'>, <Comparator.IN: 'in'>, <Comparator.NIN: 'nin'>), allowed_operators: 'Sequence[Operator]' = (<Operator.AND: 'and'>, <Operator.OR: 'or'>, <Operator.NOT: 'not'>), enable_limit: 'bool' = False, schema_prompt: 'Optional[BasePromptTemplate]' = None, **kwargs: 'Any') -> 'BasePromptTemplate'>"
      ]
     },
     "execution_count": 38,
     "metadata": {},
     "output_type": "execute_result"
    }
   ],
   "source": [
    "\n",
    "p = get_query_constructor_prompt(\n",
    "    \n",
    ")"
   ]
  },
  {
   "cell_type": "code",
   "execution_count": null,
   "id": "a3237f93",
   "metadata": {},
   "outputs": [],
   "source": []
  },
  {
   "cell_type": "code",
   "execution_count": null,
   "id": "ce00dc62",
   "metadata": {},
   "outputs": [],
   "source": []
  },
  {
   "cell_type": "code",
   "execution_count": null,
   "id": "8c16f5bc",
   "metadata": {},
   "outputs": [],
   "source": [
    "from langchain_core.documents import Document\n",
    "\n",
    "docs = [\n",
    "    Document(\n",
    "        page_content=\"A group of scientists bring back dinosaurs, leading to unexpected chaos.\",\n",
    "        metadata={\"year\": 1993, \"rating\": 7.7, \"genre\": \"science fiction\"}\n",
    "    ),\n",
    "    Document(\n",
    "        page_content=\"A man navigates dreams within dreams to plant an idea into a target's subconscious.\",\n",
    "        metadata={\"year\": 2010, \"director\": \"Christopher Nolan\", \"rating\": 8.2}\n",
    "    ),\n",
    "    Document(\n",
    "        page_content=\"A psychologist delves into a series of dreams, blurring the lines between reality and imagination.\",\n",
    "        metadata={\"year\": 2006, \"director\": \"Satoshi Kon\", \"rating\": 8.6}\n",
    "    ),\n",
    "    Document(\n",
    "        page_content=\"The lives of four sisters unfold in 19th-century America, highlighting their personal growth and challenges.\",\n",
    "        metadata={\"year\": 2019, \"director\": \"Greta Gerwig\", \"rating\": 8.3}\n",
    "    ),\n",
    "    Document(\n",
    "        page_content=\"Toys come to life and embark on adventures when humans aren't around.\",\n",
    "        metadata={\"year\": 1995, \"genre\": \"animated\"}\n",
    "    ),\n",
    "    Document(\n",
    "        page_content=\"Three men venture into a mysterious zone, facing existential questions and challenges.\",\n",
    "        metadata={\"year\": 1979, \"director\": \"Andrei Tarkovsky\", \"genre\": \"thriller\", \"rating\": 9.9}\n",
    "    ),\n",
    "]\n",
    "\n",
    "\n",
    "\n",
    "from langchain_chroma import Chroma\n",
    "from langchain_openai import OpenAIEmbeddings\n",
    "\n",
    "embedding_model = OpenAIEmbeddings()\n",
    "vectorstore = Chroma.from_documents(docs, embedding_model)\n",
    "\n",
    "\n",
    "\n",
    "\n",
    "from langchain.chains.query_constructor.schema import AttributeInfo\n",
    "\n",
    "metadata_field_info = [\n",
    "    AttributeInfo(\n",
    "        name=\"genre\",\n",
    "        description=\"The genre of the movie, e.g., science fiction, comedy, drama, thriller, romance, action, animated.\",\n",
    "        type=\"string\"\n",
    "    ),\n",
    "    AttributeInfo(\n",
    "        name=\"year\",\n",
    "        description=\"The year the movie was released.\",\n",
    "        type=\"integer\"\n",
    "    ),\n",
    "    AttributeInfo(\n",
    "        name=\"director\",\n",
    "        description=\"The name of the movie director.\",\n",
    "        type=\"string\"\n",
    "    ),\n",
    "    AttributeInfo(\n",
    "        name=\"rating\",\n",
    "        description=\"A rating for the movie on a scale from 1 to 10.\",\n",
    "        type=\"float\"\n",
    "    ),\n",
    "]\n",
    "\n",
    "\n",
    "\n",
    "from langchain.retrievers.self_query.base import SelfQueryRetriever\n",
    "from langchain_openai import ChatOpenAI\n",
    "\n",
    "llm = ChatOpenAI(temperature=0)\n",
    "\n",
    "document_content_description = \"Brief summary of a movie\"\n",
    "\n",
    "retriever = SelfQueryRetriever.from_llm(\n",
    "    llm=llm,\n",
    "    vectorstore=vectorstore,\n",
    "    document_content_description=document_content_description,\n",
    "    metadata_field_info=metadata_field_info,\n",
    "    enable_limit=True  # Allows specifying the number of documents to retrieve\n",
    ")\n",
    "\n",
    "\n",
    "results = retriever.invoke(\"I want to watch a movie rated higher than 8.5\")"
   ]
  },
  {
   "cell_type": "code",
   "execution_count": null,
   "id": "564b8e5c",
   "metadata": {},
   "outputs": [],
   "source": []
  },
  {
   "cell_type": "code",
   "execution_count": null,
   "id": "c0ff4267",
   "metadata": {},
   "outputs": [],
   "source": []
  },
  {
   "cell_type": "code",
   "execution_count": null,
   "id": "7836bb2b",
   "metadata": {},
   "outputs": [],
   "source": []
  },
  {
   "cell_type": "code",
   "execution_count": null,
   "id": "673076f7",
   "metadata": {},
   "outputs": [],
   "source": []
  }
 ],
 "metadata": {
  "kernelspec": {
   "display_name": "Python 3",
   "language": "python",
   "name": "python3"
  },
  "language_info": {
   "codemirror_mode": {
    "name": "ipython",
    "version": 3
   },
   "file_extension": ".py",
   "mimetype": "text/x-python",
   "name": "python",
   "nbconvert_exporter": "python",
   "pygments_lexer": "ipython3",
   "version": "3.12.7"
  }
 },
 "nbformat": 4,
 "nbformat_minor": 5
}
