{
 "cells": [
  {
   "cell_type": "code",
   "execution_count": 1,
   "id": "5d942f7b",
   "metadata": {},
   "outputs": [
    {
     "data": {
      "text/plain": [
       "True"
      ]
     },
     "execution_count": 1,
     "metadata": {},
     "output_type": "execute_result"
    }
   ],
   "source": [
    "from langgraph.graph import StateGraph,START,END\n",
    "from langgraph.graph.message import add_messages\n",
    "from langgraph.prebuilt import ToolNode\n",
    "from langgraph.prebuilt import tools_condition\n",
    "\n",
    "from typing import  TypedDict,Annotated\n",
    "from dotenv import load_dotenv\n",
    "import warnings\n",
    "warnings.filterwarnings(\"ignore\")\n",
    "load_dotenv()"
   ]
  },
  {
   "cell_type": "code",
   "execution_count": 2,
   "id": "0926cde2",
   "metadata": {},
   "outputs": [],
   "source": [
    "class State(TypedDict):\n",
    "    messages:Annotated[list,add_messages]\n",
    "\n"
   ]
  },
  {
   "cell_type": "code",
   "execution_count": 3,
   "id": "9e2b5f3a",
   "metadata": {},
   "outputs": [],
   "source": [
    "from langchain_openai import ChatOpenAI\n",
    "llm = ChatOpenAI(model=\"gpt-4.1-nano\")"
   ]
  },
  {
   "cell_type": "code",
   "execution_count": 4,
   "id": "f111a03d",
   "metadata": {},
   "outputs": [],
   "source": [
    "from langchain_tavily import TavilySearch\n",
    "\n",
    "search_tool = TavilySearch(max_result = 2)\n"
   ]
  },
  {
   "cell_type": "code",
   "execution_count": 17,
   "id": "5cf1a21a",
   "metadata": {},
   "outputs": [],
   "source": [
    "def multiply(a:int,b:int)->int:\n",
    "    \n",
    "    \"\"\"\n",
    "    This tool multiply two values \n",
    "    Args:\n",
    "    a: first integer\n",
    "    b: second integer\n",
    "    \"\"\"\n",
    "    return a*b"
   ]
  },
  {
   "cell_type": "code",
   "execution_count": 18,
   "id": "1578d855",
   "metadata": {},
   "outputs": [],
   "source": [
    "tools = [multiply,search_tool]\n",
    "\n",
    "llm_with_tool = llm.bind_tools(tools)\n"
   ]
  },
  {
   "cell_type": "code",
   "execution_count": 19,
   "id": "71ceb5cf",
   "metadata": {},
   "outputs": [],
   "source": [
    "def tool_calling_condition(state:State):\n",
    "    return {\"messages\":[llm_with_tool.invoke(state[\"messages\"])]}"
   ]
  },
  {
   "cell_type": "code",
   "execution_count": 20,
   "id": "bdec7fda",
   "metadata": {},
   "outputs": [],
   "source": [
    "from langgraph.prebuilt import ToolNode\n",
    "from langgraph.prebuilt import tools_condition\n",
    "\n",
    "\n",
    "graph = StateGraph(State)\n",
    "\n",
    "graph.add_node(\"tool_calling_llm\",tool_calling_condition)\n",
    "\n",
    "graph.add_node(\"tools\",ToolNode(tools))\n",
    "\n",
    "graph.add_edge(START,\"tool_calling_llm\")\n",
    "\n",
    "graph.add_conditional_edges(\n",
    "    \"tool_calling_llm\",\n",
    "    # if the latest message from assistant is a tool call -> tool condition route to tools\n",
    "    # if the latest message from assistant is not tool call -> tool condtion route to END\n",
    "    tools_condition\n",
    ")\n",
    "\n",
    "graph.add_edge(\"tools\",END)\n",
    "\n",
    "app = graph.compile()"
   ]
  },
  {
   "cell_type": "code",
   "execution_count": 21,
   "id": "a910f05c",
   "metadata": {},
   "outputs": [
    {
     "data": {
      "image/png": "[encoded data removed]",
      "text/plain": [
       "<IPython.core.display.Image object>"
      ]
     },
     "metadata": {},
     "output_type": "display_data"
    }
   ],
   "source": [
    "from IPython.display import Image,display\n",
    "display(Image(app.get_graph().draw_mermaid_png()))"
   ]
  },
  {
   "cell_type": "code",
   "execution_count": 22,
   "id": "0037eaaf",
   "metadata": {},
   "outputs": [],
   "source": [
    "response = app.invoke({\"messages\":\"what is weather of islambad today?\"})"
   ]
  },
  {
   "cell_type": "code",
   "execution_count": 23,
   "id": "639631cc",
   "metadata": {},
   "outputs": [],
   "source": [
    "response = app.invoke({\"messages\":\"what is 10 multiply 10\"})"
   ]
  },
  {
   "cell_type": "code",
   "execution_count": 31,
   "id": "bb337fe3",
   "metadata": {},
   "outputs": [
    {
     "data": {
      "text/plain": [
       "'100'"
      ]
     },
     "execution_count": 31,
     "metadata": {},
     "output_type": "execute_result"
    }
   ],
   "source": [
    "response[\"messages\"][-1].content"
   ]
  },
  {
   "cell_type": "code",
   "execution_count": 25,
   "id": "56111c9f",
   "metadata": {},
   "outputs": [
    {
     "name": "stdout",
     "output_type": "stream",
     "text": [
      "================================\u001b[1m Human Message \u001b[0m=================================\n",
      "\n",
      "what is 10 multiply 10\n",
      "==================================\u001b[1m Ai Message \u001b[0m==================================\n",
      "Tool Calls:\n",
      "  multiply (call_yAEF1aKQ5rMcc9qhpcar59wk)\n",
      " Call ID: call_yAEF1aKQ5rMcc9qhpcar59wk\n",
      "  Args:\n",
      "    a: 10\n",
      "    b: 10\n",
      "=================================\u001b[1m Tool Message \u001b[0m=================================\n",
      "Name: multiply\n",
      "\n",
      "100\n"
     ]
    }
   ],
   "source": [
    "for m in response[\"messages\"]:\n",
    "    m.pretty_print()"
   ]
  },
  {
   "cell_type": "code",
   "execution_count": null,
   "id": "96c8a0f2",
   "metadata": {},
   "outputs": [],
   "source": []
  },
  {
   "cell_type": "markdown",
   "id": "9b29360f",
   "metadata": {},
   "source": [
    "## React"
   ]
  },
  {
   "cell_type": "code",
   "execution_count": 32,
   "id": "d4ccd604",
   "metadata": {},
   "outputs": [
    {
     "data": {
      "image/png": "[encoded data removed]",
      "text/plain": [
       "<IPython.core.display.Image object>"
      ]
     },
     "metadata": {},
     "output_type": "display_data"
    }
   ],
   "source": [
    "from langgraph.prebuilt import ToolNode\n",
    "from langgraph.prebuilt import tools_condition\n",
    "\n",
    "\n",
    "graph = StateGraph(State)\n",
    "\n",
    "graph.add_node(\"tool_calling_llm\",tool_calling_condition)\n",
    "\n",
    "graph.add_node(\"tools\",ToolNode(tools))\n",
    "\n",
    "graph.add_edge(START,\"tool_calling_llm\")\n",
    "\n",
    "graph.add_conditional_edges(\n",
    "    \"tool_calling_llm\",\n",
    "    # if the latest message from assistant is a tool call -> tool condition route to tools\n",
    "    # if the latest message from assistant is not tool call -> tool condtion route to END\n",
    "    tools_condition\n",
    ")\n",
    "\n",
    "graph.add_edge(\"tools\",\"tool_calling_llm\")\n",
    "\n",
    "app = graph.compile()\n",
    "\n",
    "from IPython.display import Image,display\n",
    "display(Image(app.get_graph().draw_mermaid_png()))"
   ]
  },
  {
   "cell_type": "code",
   "execution_count": 42,
   "id": "b6015ceb",
   "metadata": {},
   "outputs": [
    {
     "name": "stdout",
     "output_type": "stream",
     "text": [
      "================================\u001b[1m Human Message \u001b[0m=================================\n",
      "\n",
      "Give me recent news about AI and then multiply 5 by 11\n",
      "==================================\u001b[1m Ai Message \u001b[0m==================================\n",
      "Tool Calls:\n",
      "  tavily_search (call_hrwG9YLCqJpFh5uLkmYeFVJ6)\n",
      " Call ID: call_hrwG9YLCqJpFh5uLkmYeFVJ6\n",
      "  Args:\n",
      "    query: Recent news about AI\n",
      "    search_depth: advanced\n",
      "  multiply (call_wBENwpI7xHEPfp0uHMI3cQnM)\n",
      " Call ID: call_wBENwpI7xHEPfp0uHMI3cQnM\n",
      "  Args:\n",
      "    a: 5\n",
      "    b: 11\n",
      "=================================\u001b[1m Tool Message \u001b[0m=================================\n",
      "Name: tavily_search\n",
      "\n",
      "{\"query\": \"Recent news about AI\", \"follow_up_questions\": null, \"answer\": null, \"images\": [], \"results\": [{\"url\": \"https://www.wsj.com/tech/ai?gaa_at=eafs&gaa_n=ASWzDAgoHEXURk_JVbnhtiHZW-Yl2HSnitepZFZGZ9UAMV8cPq8qX0sUISpi&gaa_ts=685975af&gaa_sig=cOJFMYnzffUfM4nvNpl9rvR0ElH1bG7AfgiahhGBlAcbRXnA4P_laNRGFlsikhjVM3G_KaSFjXk41Zfn3TlDXw%3D%3D\", \"title\": \"Artificial Intelligence - Latest AI News and Analysis - WSJ.com\", \"content\": \"From Killer Drones to Robotaxis, Sci-Fi Dreams Are Coming to Life. AI and deep-pocketed billionaires are amping up interest in hardware in a new way.\", \"score\": 0.71758664, \"raw_content\": null}, {\"url\": \"https://indianexpress.com/section/technology/artificial-intelligence/\", \"title\": \"artificial intelligence news - Technology - The Indian Express\", \"content\": \"![An illustrative image showing artificial intelligence chatbot DeepSeek on a smartphone in San Francisco, March 21, 2025. In September of last year, Open AI released a new “reasoning” version of its ChatGPT chatbot that was designed to spend time “thinking” through complex problems before settling on an answer. Now other companies like Google, Anthropic and China’s DeepSeek offer similar technologies. (Kelsey McClellan/The New York [...] ![Jensen Huang, CEO of Nvidia, gestures as he speaks during the Viva Technology conference dedicated to innovation and startups at Porte de Versailles exhibition center in Paris, France, June 11, 2025. (File Photo: Reuters/Gonzalo Fuentes)](https://indianexpress.com/wp-content/themes/indianexpress/images/default-ie.jpg) [...] ![Aravind Srinivas, Co-Founder & CEO of Perplexity, speaks onstage during TechCrunch Disrupt 2024.](https://images.indianexpress.com/2025/06/Tech-feature-images312.jpg?resize=150,83)\\n![Meta AI app.](https://images.indianexpress.com/2025/04/meta-ai-standalone-app.jpg?resize=150,83)\\n![Jony Ive, the former head of design for Apple, in San Francisco, June 28, 2024. (Carolyn Fong/The New York Times)](https://images.indianexpress.com/2025/05/Jony-Ive-NYT.jpg?resize=150,83)\", \"score\": 0.7171114, \"raw_content\": null}, {\"url\": \"https://www.nytimes.com/spotlight/artificial-intelligence\", \"title\": \"Artificial Intelligence - The New York Times\", \"content\": \"![Mark Zuckerberg’s new A.I. lab aims to hire some of the top A.I. researchers in the world.](https://static01.nyt.com/images/2025/06/12/multimedia/00biz-superintelligence-ljkv/00biz-superintelligence-ljkv-smallSquare252.jpg?auto=webp)\\n\\n[This A.I. Company Wants to Take Your Job](/2025/06/11/technology/ai-mechanize-jobs.html)\\n\\nMechanize, a San Francisco start-up, is building artificial intelligence tools to automate white-collar jobs “as fast as possible.”\\n\\n By Kevin Roose [...] ![Co-founders of the AI startup Mechanize, Matthew Barnett, left, Tamay Besiroglu and Ege Erdil pose for a portrait at The Interval at Long Now in San Francisco.](https://static01.nyt.com/images/2025/06/09/multimedia/ROOSE-1-02-jmfw/ROOSE-1-02-jmfw-square640.jpg?auto=webp)\\n\\n[Meta Is Creating a New A.I. Lab to Pursue ‘Superintelligence’](/2025/06/10/technology/meta-new-ai-lab-superintelligence.html) [...] [A.I. Sludge Has Entered the Job Search](/2025/06/21/business/dealbook/ai-job-applications.html)\\n\\nCandidates are frustrated. Employers are overwhelmed. The problem? An untenable pile of applications — many of them generated with the help of A.I. tools.\\n\\n By Sarah Kessler\\n\\n![Recruiters say they are seeing a surge of résumés that they suspect have been generated using ChatGPT.](https://static01.nyt.com/images/2025/06/21/business/21DB-AI-Applicants/21DB-AI-Applicants-square640-v2.jpg?auto=webp)\", \"score\": 0.6944897, \"raw_content\": null}, {\"url\": \"https://news.mit.edu/topic/artificial-intelligence2\", \"title\": \"Artificial intelligence | Massachusetts Institute of Technology\", \"content\": \"Forget optimists vs. Luddites. Most people evaluate AI based on its perceived capability and their need for personalization.\\n\\nJune 10, 2025\\n\\n[Read full story](/2025/how-we-really-judge-ai-0610) →\\n\\n![A package delivery drone in the air](/themes/mit/src/img/placeholder/placeholder--frontpage--featured-news.jpg)\\n\\n### [AI-enabled control system helps autonomous drones stay on target in uncertain environments](/2025/ai-enabled-control-system-helps-autonomous-drones-uncertain-environments-0609) [...] The system automatically learns to adapt to unknown disturbances such as gusting winds.\\n\\nJune 9, 2025\\n\\n[Read full story](/2025/ai-enabled-control-system-helps-autonomous-drones-uncertain-environments-0609) →\\n\\n![Annaliese Meyer stands with her Envisioning the Future of Computing prize winner statue.](/themes/mit/src/img/placeholder/placeholder--frontpage--featured-news.jpg)\", \"score\": 0.69099766, \"raw_content\": null}, {\"url\": \"https://www.reuters.com/technology/artificial-intelligence/\", \"title\": \"AI News | Latest Headlines and Developments | Reuters\", \"content\": \"![Artificial Intelligence silicon chip with Reuters logo](https://www.reuters.com/resizer/v2/GSJJBHD7P5CDRODH727CQTOFUU.jpg?auth=943259dbe714440e27bb4882335b2f9eaddc87e4324f635b849474cfc8b61339&height=480&width=480&quality=80&smart=true)\\n\\nEvent\\n\\n15-16 Jul 2025 · San Jose, USA [...] ![Artificial Intelligence silicon chip with Reuters logo](https://www.reuters.com/resizer/v2/GSJJBHD7P5CDRODH727CQTOFUU.jpg?auth=943259dbe714440e27bb4882335b2f9eaddc87e4324f635b849474cfc8b61339&height=480&width=480&quality=80&smart=true)\\n\\nEvent\\n\\n29-30 Sep 2025 · London, UK [...] # Artificial Intelligence\\n\\nHow Artificial Intelligence is creating the next normal\\n\\nTesla shares TSLA.O jumped 10% on Monday, lifted by the long-awaited launch of the company's robotaxi service that CEO Elon Musk has for years championed as a key driver of the electric vehicle maker's lofty valuation.\", \"score\": 0.68697983, \"raw_content\": null}], \"response_time\": 2.5}\n",
      "=================================\u001b[1m Tool Message \u001b[0m=================================\n",
      "Name: multiply\n",
      "\n",
      "55\n",
      "==================================\u001b[1m Ai Message \u001b[0m==================================\n",
      "\n",
      "Recent news about AI includes various updates such as advancements in autonomous drones, AI tools automating jobs, and significant industry events. For example, companies are developing AI-enabled control systems for drones to improve their operation in uncertain environments, and startups like Mechanize are working on using AI to automate white-collar jobs. Additionally, major tech firms like Meta are creating new AI research labs focused on superintelligence, and Elon Musk's Tesla has launched its robotaxi service.\n",
      "\n",
      "The result of multiplying 5 by 11 is 55.\n"
     ]
    }
   ],
   "source": [
    "response = app.invoke({\"messages\":\"Give me recent news about AI and then multiply 5 by 11\"})\n",
    "for m in response[\"messages\"]:\n",
    "    m.pretty_print()"
   ]
  },
  {
   "cell_type": "code",
   "execution_count": 41,
   "id": "4b69a969",
   "metadata": {},
   "outputs": [
    {
     "name": "stdout",
     "output_type": "stream",
     "text": [
      "================================\u001b[1m Human Message \u001b[0m=================================\n",
      "\n",
      "My name is haseeb\n",
      "==================================\u001b[1m Ai Message \u001b[0m==================================\n",
      "\n",
      "Hello, Haseeb! How can I assist you today?\n"
     ]
    }
   ],
   "source": [
    "response = app.invoke({\"messages\":\"My name is haseeb\"})\n",
    "for m in response[\"messages\"]:\n",
    "    m.pretty_print()"
   ]
  },
  {
   "cell_type": "code",
   "execution_count": null,
   "id": "7277822d",
   "metadata": {},
   "outputs": [],
   "source": []
  },
  {
   "cell_type": "markdown",
   "id": "6a2ba1f1",
   "metadata": {},
   "source": [
    "## Memory"
   ]
  },
  {
   "cell_type": "code",
   "execution_count": 43,
   "id": "01c82320",
   "metadata": {},
   "outputs": [
    {
     "data": {
      "image/png": "[encoded data removed]",
      "text/plain": [
       "<IPython.core.display.Image object>"
      ]
     },
     "metadata": {},
     "output_type": "display_data"
    }
   ],
   "source": [
    "from langgraph.prebuilt import ToolNode\n",
    "from langgraph.prebuilt import tools_condition\n",
    "from langgraph.graph import StateGraph\n",
    "from langgraph.checkpoint.memory import MemorySaver\n",
    "\n",
    "memory = MemorySaver()\n",
    "\n",
    "def tool_calling_condition(state:State):\n",
    "    return {\"messages\":[llm_with_tool.invoke(state[\"messages\"])]}\n",
    "\n",
    "\n",
    "graph = StateGraph(State)\n",
    "\n",
    "graph.add_node(\"tool_calling_llm\",tool_calling_condition)\n",
    "\n",
    "graph.add_node(\"tools\",ToolNode(tools))\n",
    "\n",
    "graph.add_edge(START,\"tool_calling_llm\")\n",
    "\n",
    "graph.add_conditional_edges(\n",
    "    \"tool_calling_llm\",\n",
    "    # if the latest message from assistant is a tool call -> tool condition route to tools\n",
    "    # if the latest message from assistant is not tool call -> tool condtion route to END\n",
    "    tools_condition)\n",
    "\n",
    "graph.add_edge(\"tools\",\"tool_calling_llm\")\n",
    "\n",
    "app = graph.compile(checkpointer=memory)\n",
    "\n",
    "from IPython.display import Image,display\n",
    "display(Image(app.get_graph().draw_mermaid_png()))"
   ]
  },
  {
   "cell_type": "code",
   "execution_count": 45,
   "id": "cf930511",
   "metadata": {},
   "outputs": [
    {
     "data": {
      "text/plain": [
       "{'messages': [HumanMessage(content='My name is Haseeb Manzoor', additional_kwargs={}, response_metadata={}, id='d7b4f949-0dd9-415b-a4d3-9f6c6d126d50'),\n",
       "  AIMessage(content='Hello, Haseeb Manzoor! How can I assist you today?', additional_kwargs={'refusal': None}, response_metadata={'token_usage': {'completion_tokens': 17, 'prompt_tokens': 813, 'total_tokens': 830, 'completion_tokens_details': {'accepted_prediction_tokens': 0, 'audio_tokens': 0, 'reasoning_tokens': 0, 'rejected_prediction_tokens': 0}, 'prompt_tokens_details': {'audio_tokens': 0, 'cached_tokens': 0}}, 'model_name': 'gpt-4.1-nano-2025-04-14', 'system_fingerprint': 'fp_38343a2f8f', 'id': 'chatcmpl-BldchuFVqMzFDtFOoCJCIBdpI4GkC', 'service_tier': 'default', 'finish_reason': 'stop', 'logprobs': None}, id='run--1e39d919-40e8-452f-bfe8-4a08812bd7af-0', usage_metadata={'input_tokens': 813, 'output_tokens': 17, 'total_tokens': 830, 'input_token_details': {'audio': 0, 'cache_read': 0}, 'output_token_details': {'audio': 0, 'reasoning': 0}})]}"
      ]
     },
     "execution_count": 45,
     "metadata": {},
     "output_type": "execute_result"
    }
   ],
   "source": [
    "config = {\"configurable\":{\"thread_id\" :\"1\"}}\n",
    "\n",
    "response = app.invoke({\"messages\":\"My name is Haseeb Manzoor\"},config=config)\n",
    "response"
   ]
  },
  {
   "cell_type": "code",
   "execution_count": null,
   "id": "bdea81d5",
   "metadata": {},
   "outputs": [
    {
     "data": {
      "text/plain": [
       "{'messages': [HumanMessage(content='My name is Haseeb Manzoor', additional_kwargs={}, response_metadata={}, id='d7b4f949-0dd9-415b-a4d3-9f6c6d126d50'),\n",
       "  AIMessage(content='Hello, Haseeb Manzoor! How can I assist you today?', additional_kwargs={'refusal': None}, response_metadata={'token_usage': {'completion_tokens': 17, 'prompt_tokens': 813, 'total_tokens': 830, 'completion_tokens_details': {'accepted_prediction_tokens': 0, 'audio_tokens': 0, 'reasoning_tokens': 0, 'rejected_prediction_tokens': 0}, 'prompt_tokens_details': {'audio_tokens': 0, 'cached_tokens': 0}}, 'model_name': 'gpt-4.1-nano-2025-04-14', 'system_fingerprint': 'fp_38343a2f8f', 'id': 'chatcmpl-BldchuFVqMzFDtFOoCJCIBdpI4GkC', 'service_tier': 'default', 'finish_reason': 'stop', 'logprobs': None}, id='run--1e39d919-40e8-452f-bfe8-4a08812bd7af-0', usage_metadata={'input_tokens': 813, 'output_tokens': 17, 'total_tokens': 830, 'input_token_details': {'audio': 0, 'cache_read': 0}, 'output_token_details': {'audio': 0, 'reasoning': 0}}),\n",
       "  HumanMessage(content='what is my name', additional_kwargs={}, response_metadata={}, id='6942a390-497a-4652-b579-aa1e2a4f4123'),\n",
       "  AIMessage(content='Your name is Haseeb Manzoor.', additional_kwargs={'refusal': None}, response_metadata={'token_usage': {'completion_tokens': 11, 'prompt_tokens': 841, 'total_tokens': 852, 'completion_tokens_details': {'accepted_prediction_tokens': 0, 'audio_tokens': 0, 'reasoning_tokens': 0, 'rejected_prediction_tokens': 0}, 'prompt_tokens_details': {'audio_tokens': 0, 'cached_tokens': 0}}, 'model_name': 'gpt-4.1-nano-2025-04-14', 'system_fingerprint': 'fp_38343a2f8f', 'id': 'chatcmpl-BlddKIzrWjrxtwrDBXoWIgIT3boSp', 'service_tier': 'default', 'finish_reason': 'stop', 'logprobs': None}, id='run--b50b35bd-00ba-4eb6-ad5b-2089a6822883-0', usage_metadata={'input_tokens': 841, 'output_tokens': 11, 'total_tokens': 852, 'input_token_details': {'audio': 0, 'cache_read': 0}, 'output_token_details': {'audio': 0, 'reasoning': 0}})]}"
      ]
     },
     "execution_count": 46,
     "metadata": {},
     "output_type": "execute_result"
    }
   ],
   "source": [
    "response = app.invoke({\"messages\":\"what is my name\"},config=config)\n",
    "response"
   ]
  },
  {
   "cell_type": "code",
   "execution_count": 47,
   "id": "275100e4",
   "metadata": {},
   "outputs": [
    {
     "data": {
      "text/plain": [
       "'Your name is Haseeb Manzoor.'"
      ]
     },
     "execution_count": 47,
     "metadata": {},
     "output_type": "execute_result"
    }
   ],
   "source": [
    "response[\"messages\"][-1].content"
   ]
  },
  {
   "cell_type": "code",
   "execution_count": null,
   "id": "0166ac36",
   "metadata": {},
   "outputs": [],
   "source": []
  },
  {
   "cell_type": "markdown",
   "id": "cd25de47",
   "metadata": {},
   "source": [
    "## Streaming"
   ]
  },
  {
   "cell_type": "code",
   "execution_count": 55,
   "id": "c71c7b47",
   "metadata": {},
   "outputs": [
    {
     "data": {
      "image/png": "[encoded data removed]",
      "text/plain": [
       "<IPython.core.display.Image object>"
      ]
     },
     "metadata": {},
     "output_type": "display_data"
    }
   ],
   "source": [
    "from langgraph.graph import StateGraph\n",
    "from langgraph.checkpoint.memory import MemorySaver\n",
    "\n",
    "memory = MemorySaver()\n",
    "\n",
    "def tool_calling_condition(state:State):\n",
    "    return {\"messages\":[llm_with_tool.invoke(state[\"messages\"])]}\n",
    "\n",
    "\n",
    "graph = StateGraph(State)\n",
    "\n",
    "graph.add_node(\"llm\",tool_calling_condition)\n",
    "\n",
    "graph.add_edge(START,\"llm\")\n",
    "\n",
    "graph.add_edge(\"llm\",END)\n",
    "\n",
    "app = graph.compile(checkpointer=memory)\n",
    "\n",
    "from IPython.display import display,Image\n",
    "display(Image(app.get_graph().draw_mermaid_png()))"
   ]
  },
  {
   "cell_type": "code",
   "execution_count": 60,
   "id": "013d0bdb",
   "metadata": {},
   "outputs": [
    {
     "name": "stdout",
     "output_type": "stream",
     "text": [
      "{'llm': {'messages': [AIMessage(content=\"Hello again, Haseeb! You've mentioned your name and age several times. How can I assist you today?\", additional_kwargs={'refusal': None}, response_metadata={'token_usage': {'completion_tokens': 24, 'prompt_tokens': 953, 'total_tokens': 977, 'completion_tokens_details': {'accepted_prediction_tokens': 0, 'audio_tokens': 0, 'reasoning_tokens': 0, 'rejected_prediction_tokens': 0}, 'prompt_tokens_details': {'audio_tokens': 0, 'cached_tokens': 0}}, 'model_name': 'gpt-4.1-nano-2025-04-14', 'system_fingerprint': 'fp_38343a2f8f', 'id': 'chatcmpl-Ble6HVnz5a9YIPKdIZogFuPtXPIN5', 'service_tier': 'default', 'finish_reason': 'stop', 'logprobs': None}, id='run--107a3e52-6165-4b7f-b096-13d9be459e18-0', usage_metadata={'input_tokens': 953, 'output_tokens': 24, 'total_tokens': 977, 'input_token_details': {'audio': 0, 'cache_read': 0}, 'output_token_details': {'audio': 0, 'reasoning': 0}})]}}\n"
     ]
    }
   ],
   "source": [
    "config = {\"configurable\": {\"thread_id\": \"5\"}}\n",
    "\n",
    "response = app.stream({\"messages\":\"my name is haseeb and i am 24 year old\"},config=config,stream_mode=\"updates\")\n",
    "\n",
    "for chunk in response:\n",
    "    print(chunk)\n",
    "\n",
    "\n",
    "# with streaming_mode = updates  only AI message is being displayed"
   ]
  },
  {
   "cell_type": "code",
   "execution_count": 61,
   "id": "6934335e",
   "metadata": {},
   "outputs": [
    {
     "name": "stdout",
     "output_type": "stream",
     "text": [
      "{'messages': [HumanMessage(content='my name is haseeb and i am 24 year old', additional_kwargs={}, response_metadata={}, id='97e45688-7684-4205-b659-d0f84f7739d9'), AIMessage(content=\"Hello, Haseeb! It's nice to meet you. You're 24 years old. How can I assist you today?\", additional_kwargs={'refusal': None}, response_metadata={'token_usage': {'completion_tokens': 26, 'prompt_tokens': 817, 'total_tokens': 843, 'completion_tokens_details': {'accepted_prediction_tokens': 0, 'audio_tokens': 0, 'reasoning_tokens': 0, 'rejected_prediction_tokens': 0}, 'prompt_tokens_details': {'audio_tokens': 0, 'cached_tokens': 0}}, 'model_name': 'gpt-4.1-nano-2025-04-14', 'system_fingerprint': 'fp_38343a2f8f', 'id': 'chatcmpl-Ble0hBBbaQEPvfSDBVye8Dr93Hj6I', 'service_tier': 'default', 'finish_reason': 'stop', 'logprobs': None}, id='run--9000560a-64a2-496d-ba00-2f10909feb0c-0', usage_metadata={'input_tokens': 817, 'output_tokens': 26, 'total_tokens': 843, 'input_token_details': {'audio': 0, 'cache_read': 0}, 'output_token_details': {'audio': 0, 'reasoning': 0}}), HumanMessage(content='my name is haseeb and i am 24 year old', additional_kwargs={}, response_metadata={}, id='34b9e8aa-35b9-4997-91a2-ad1e32474d5c'), AIMessage(content=\"Hello, Haseeb! It's great to know your name and age. How can I help you today?\", additional_kwargs={'refusal': None}, response_metadata={'token_usage': {'completion_tokens': 23, 'prompt_tokens': 863, 'total_tokens': 886, 'completion_tokens_details': {'accepted_prediction_tokens': 0, 'audio_tokens': 0, 'reasoning_tokens': 0, 'rejected_prediction_tokens': 0}, 'prompt_tokens_details': {'audio_tokens': 0, 'cached_tokens': 0}}, 'model_name': 'gpt-4.1-nano-2025-04-14', 'system_fingerprint': 'fp_38343a2f8f', 'id': 'chatcmpl-Ble2sRIvtKQMmjsw3TttsYtFIEIeS', 'service_tier': 'default', 'finish_reason': 'stop', 'logprobs': None}, id='run--66820f36-f3d3-4a8e-81c1-3572b85152af-0', usage_metadata={'input_tokens': 863, 'output_tokens': 23, 'total_tokens': 886, 'input_token_details': {'audio': 0, 'cache_read': 0}, 'output_token_details': {'audio': 0, 'reasoning': 0}}), HumanMessage(content='my name is haseeb and i am 24 year old', additional_kwargs={}, response_metadata={}, id='c04878b1-795c-4177-a8f8-67ba77556939'), AIMessage(content=\"Hello, Haseeb! Nice to meet you. You mentioned you're 24 years old. How can I assist you today?\", additional_kwargs={'refusal': None}, response_metadata={'token_usage': {'completion_tokens': 27, 'prompt_tokens': 906, 'total_tokens': 933, 'completion_tokens_details': {'accepted_prediction_tokens': 0, 'audio_tokens': 0, 'reasoning_tokens': 0, 'rejected_prediction_tokens': 0}, 'prompt_tokens_details': {'audio_tokens': 0, 'cached_tokens': 0}}, 'model_name': 'gpt-4.1-nano-2025-04-14', 'system_fingerprint': 'fp_38343a2f8f', 'id': 'chatcmpl-Ble2xtkhGs0acglnEJXw3sjueZTLU', 'service_tier': 'default', 'finish_reason': 'stop', 'logprobs': None}, id='run--4b352608-0893-42c6-9749-363d785110c9-0', usage_metadata={'input_tokens': 906, 'output_tokens': 27, 'total_tokens': 933, 'input_token_details': {'audio': 0, 'cache_read': 0}, 'output_token_details': {'audio': 0, 'reasoning': 0}}), HumanMessage(content='my name is haseeb and i am 24 year old', additional_kwargs={}, response_metadata={}, id='f63ec68b-c584-4219-aaf1-ce7200f4cbcf'), AIMessage(content=\"Hello again, Haseeb! You've mentioned your name and age several times. How can I assist you today?\", additional_kwargs={'refusal': None}, response_metadata={'token_usage': {'completion_tokens': 24, 'prompt_tokens': 953, 'total_tokens': 977, 'completion_tokens_details': {'accepted_prediction_tokens': 0, 'audio_tokens': 0, 'reasoning_tokens': 0, 'rejected_prediction_tokens': 0}, 'prompt_tokens_details': {'audio_tokens': 0, 'cached_tokens': 0}}, 'model_name': 'gpt-4.1-nano-2025-04-14', 'system_fingerprint': 'fp_38343a2f8f', 'id': 'chatcmpl-Ble6HVnz5a9YIPKdIZogFuPtXPIN5', 'service_tier': 'default', 'finish_reason': 'stop', 'logprobs': None}, id='run--107a3e52-6165-4b7f-b096-13d9be459e18-0', usage_metadata={'input_tokens': 953, 'output_tokens': 24, 'total_tokens': 977, 'input_token_details': {'audio': 0, 'cache_read': 0}, 'output_token_details': {'audio': 0, 'reasoning': 0}}), HumanMessage(content='my name is haseeb and i am 24 year old', additional_kwargs={}, response_metadata={}, id='ede421a8-becc-4705-8b9e-439b221164b2')]}\n",
      "{'messages': [HumanMessage(content='my name is haseeb and i am 24 year old', additional_kwargs={}, response_metadata={}, id='97e45688-7684-4205-b659-d0f84f7739d9'), AIMessage(content=\"Hello, Haseeb! It's nice to meet you. You're 24 years old. How can I assist you today?\", additional_kwargs={'refusal': None}, response_metadata={'token_usage': {'completion_tokens': 26, 'prompt_tokens': 817, 'total_tokens': 843, 'completion_tokens_details': {'accepted_prediction_tokens': 0, 'audio_tokens': 0, 'reasoning_tokens': 0, 'rejected_prediction_tokens': 0}, 'prompt_tokens_details': {'audio_tokens': 0, 'cached_tokens': 0}}, 'model_name': 'gpt-4.1-nano-2025-04-14', 'system_fingerprint': 'fp_38343a2f8f', 'id': 'chatcmpl-Ble0hBBbaQEPvfSDBVye8Dr93Hj6I', 'service_tier': 'default', 'finish_reason': 'stop', 'logprobs': None}, id='run--9000560a-64a2-496d-ba00-2f10909feb0c-0', usage_metadata={'input_tokens': 817, 'output_tokens': 26, 'total_tokens': 843, 'input_token_details': {'audio': 0, 'cache_read': 0}, 'output_token_details': {'audio': 0, 'reasoning': 0}}), HumanMessage(content='my name is haseeb and i am 24 year old', additional_kwargs={}, response_metadata={}, id='34b9e8aa-35b9-4997-91a2-ad1e32474d5c'), AIMessage(content=\"Hello, Haseeb! It's great to know your name and age. How can I help you today?\", additional_kwargs={'refusal': None}, response_metadata={'token_usage': {'completion_tokens': 23, 'prompt_tokens': 863, 'total_tokens': 886, 'completion_tokens_details': {'accepted_prediction_tokens': 0, 'audio_tokens': 0, 'reasoning_tokens': 0, 'rejected_prediction_tokens': 0}, 'prompt_tokens_details': {'audio_tokens': 0, 'cached_tokens': 0}}, 'model_name': 'gpt-4.1-nano-2025-04-14', 'system_fingerprint': 'fp_38343a2f8f', 'id': 'chatcmpl-Ble2sRIvtKQMmjsw3TttsYtFIEIeS', 'service_tier': 'default', 'finish_reason': 'stop', 'logprobs': None}, id='run--66820f36-f3d3-4a8e-81c1-3572b85152af-0', usage_metadata={'input_tokens': 863, 'output_tokens': 23, 'total_tokens': 886, 'input_token_details': {'audio': 0, 'cache_read': 0}, 'output_token_details': {'audio': 0, 'reasoning': 0}}), HumanMessage(content='my name is haseeb and i am 24 year old', additional_kwargs={}, response_metadata={}, id='c04878b1-795c-4177-a8f8-67ba77556939'), AIMessage(content=\"Hello, Haseeb! Nice to meet you. You mentioned you're 24 years old. How can I assist you today?\", additional_kwargs={'refusal': None}, response_metadata={'token_usage': {'completion_tokens': 27, 'prompt_tokens': 906, 'total_tokens': 933, 'completion_tokens_details': {'accepted_prediction_tokens': 0, 'audio_tokens': 0, 'reasoning_tokens': 0, 'rejected_prediction_tokens': 0}, 'prompt_tokens_details': {'audio_tokens': 0, 'cached_tokens': 0}}, 'model_name': 'gpt-4.1-nano-2025-04-14', 'system_fingerprint': 'fp_38343a2f8f', 'id': 'chatcmpl-Ble2xtkhGs0acglnEJXw3sjueZTLU', 'service_tier': 'default', 'finish_reason': 'stop', 'logprobs': None}, id='run--4b352608-0893-42c6-9749-363d785110c9-0', usage_metadata={'input_tokens': 906, 'output_tokens': 27, 'total_tokens': 933, 'input_token_details': {'audio': 0, 'cache_read': 0}, 'output_token_details': {'audio': 0, 'reasoning': 0}}), HumanMessage(content='my name is haseeb and i am 24 year old', additional_kwargs={}, response_metadata={}, id='f63ec68b-c584-4219-aaf1-ce7200f4cbcf'), AIMessage(content=\"Hello again, Haseeb! You've mentioned your name and age several times. How can I assist you today?\", additional_kwargs={'refusal': None}, response_metadata={'token_usage': {'completion_tokens': 24, 'prompt_tokens': 953, 'total_tokens': 977, 'completion_tokens_details': {'accepted_prediction_tokens': 0, 'audio_tokens': 0, 'reasoning_tokens': 0, 'rejected_prediction_tokens': 0}, 'prompt_tokens_details': {'audio_tokens': 0, 'cached_tokens': 0}}, 'model_name': 'gpt-4.1-nano-2025-04-14', 'system_fingerprint': 'fp_38343a2f8f', 'id': 'chatcmpl-Ble6HVnz5a9YIPKdIZogFuPtXPIN5', 'service_tier': 'default', 'finish_reason': 'stop', 'logprobs': None}, id='run--107a3e52-6165-4b7f-b096-13d9be459e18-0', usage_metadata={'input_tokens': 953, 'output_tokens': 24, 'total_tokens': 977, 'input_token_details': {'audio': 0, 'cache_read': 0}, 'output_token_details': {'audio': 0, 'reasoning': 0}}), HumanMessage(content='my name is haseeb and i am 24 year old', additional_kwargs={}, response_metadata={}, id='ede421a8-becc-4705-8b9e-439b221164b2'), AIMessage(content=\"Hello, Haseeb! You've shared your name and age multiple times. If there's anything specific you'd like to discuss or need help with, please let me know!\", additional_kwargs={'refusal': None}, response_metadata={'token_usage': {'completion_tokens': 34, 'prompt_tokens': 997, 'total_tokens': 1031, 'completion_tokens_details': {'accepted_prediction_tokens': 0, 'audio_tokens': 0, 'reasoning_tokens': 0, 'rejected_prediction_tokens': 0}, 'prompt_tokens_details': {'audio_tokens': 0, 'cached_tokens': 0}}, 'model_name': 'gpt-4.1-nano-2025-04-14', 'system_fingerprint': 'fp_38343a2f8f', 'id': 'chatcmpl-Ble6IZokgW9cYZbZkv9T60Mawngqg', 'service_tier': 'default', 'finish_reason': 'stop', 'logprobs': None}, id='run--7f58d05c-1afd-4f87-be25-8a6309a5932d-0', usage_metadata={'input_tokens': 997, 'output_tokens': 34, 'total_tokens': 1031, 'input_token_details': {'audio': 0, 'cache_read': 0}, 'output_token_details': {'audio': 0, 'reasoning': 0}})]}\n"
     ]
    }
   ],
   "source": [
    "response = app.stream({\"messages\":\"my name is haseeb and i am 24 year old\"},config=config,stream_mode=\"values\")\n",
    "\n",
    "for chunk in response:\n",
    "    print(chunk)\n",
    "\n",
    "# This is better"
   ]
  },
  {
   "cell_type": "code",
   "execution_count": 64,
   "id": "94838913",
   "metadata": {},
   "outputs": [
    {
     "ename": "RuntimeError",
     "evalue": "asyncio.run() cannot be called from a running event loop",
     "output_type": "error",
     "traceback": [
      "\u001b[31m---------------------------------------------------------------------------\u001b[39m",
      "\u001b[31mRuntimeError\u001b[39m                              Traceback (most recent call last)",
      "\u001b[36mCell\u001b[39m\u001b[36m \u001b[39m\u001b[32mIn[64]\u001b[39m\u001b[32m, line 14\u001b[39m\n\u001b[32m     11\u001b[39m         \u001b[38;5;28mprint\u001b[39m(chunk)\n\u001b[32m     13\u001b[39m \u001b[38;5;66;03m# Run the async function\u001b[39;00m\n\u001b[32m---> \u001b[39m\u001b[32m14\u001b[39m \u001b[43masyncio\u001b[49m\u001b[43m.\u001b[49m\u001b[43mrun\u001b[49m\u001b[43m(\u001b[49m\u001b[43mrun\u001b[49m\u001b[43m(\u001b[49m\u001b[43m)\u001b[49m\u001b[43m)\u001b[49m\n",
      "\u001b[36mFile \u001b[39m\u001b[32m~\\AppData\\Local\\Programs\\Python\\Python312\\Lib\\asyncio\\runners.py:190\u001b[39m, in \u001b[36mrun\u001b[39m\u001b[34m(main, debug, loop_factory)\u001b[39m\n\u001b[32m    161\u001b[39m \u001b[38;5;250m\u001b[39m\u001b[33;03m\"\"\"Execute the coroutine and return the result.\u001b[39;00m\n\u001b[32m    162\u001b[39m \n\u001b[32m    163\u001b[39m \u001b[33;03mThis function runs the passed coroutine, taking care of\u001b[39;00m\n\u001b[32m   (...)\u001b[39m\u001b[32m    186\u001b[39m \u001b[33;03m    asyncio.run(main())\u001b[39;00m\n\u001b[32m    187\u001b[39m \u001b[33;03m\"\"\"\u001b[39;00m\n\u001b[32m    188\u001b[39m \u001b[38;5;28;01mif\u001b[39;00m events._get_running_loop() \u001b[38;5;129;01mis\u001b[39;00m \u001b[38;5;129;01mnot\u001b[39;00m \u001b[38;5;28;01mNone\u001b[39;00m:\n\u001b[32m    189\u001b[39m     \u001b[38;5;66;03m# fail fast with short traceback\u001b[39;00m\n\u001b[32m--> \u001b[39m\u001b[32m190\u001b[39m     \u001b[38;5;28;01mraise\u001b[39;00m \u001b[38;5;167;01mRuntimeError\u001b[39;00m(\n\u001b[32m    191\u001b[39m         \u001b[33m\"\u001b[39m\u001b[33masyncio.run() cannot be called from a running event loop\u001b[39m\u001b[33m\"\u001b[39m)\n\u001b[32m    193\u001b[39m \u001b[38;5;28;01mwith\u001b[39;00m Runner(debug=debug, loop_factory=loop_factory) \u001b[38;5;28;01mas\u001b[39;00m runner:\n\u001b[32m    194\u001b[39m     \u001b[38;5;28;01mreturn\u001b[39;00m runner.run(main)\n",
      "\u001b[31mRuntimeError\u001b[39m: asyncio.run() cannot be called from a running event loop"
     ]
    }
   ],
   "source": [
    "import asyncio\n",
    "\n",
    "config = {\"configurable\": {\"thread_id\": \"9\"}}\n",
    "\n",
    "async def run():\n",
    "    async for chunk in app.astream(\n",
    "        {\"messages\": \"my name is haseeb and i am 24 year old\"},\n",
    "        config=config,\n",
    "        stream_mode=\"updates\"\n",
    "    ):\n",
    "        print(chunk)\n",
    "\n",
    "# Run the async function\n",
    "asyncio.run(run())\n"
   ]
  },
  {
   "cell_type": "code",
   "execution_count": null,
   "id": "63102bf5",
   "metadata": {},
   "outputs": [],
   "source": []
  },
  {
   "cell_type": "code",
   "execution_count": null,
   "id": "f0b3e1c1",
   "metadata": {},
   "outputs": [],
   "source": []
  },
  {
   "cell_type": "markdown",
   "id": "2595341d",
   "metadata": {},
   "source": [
    "## Human In Loop"
   ]
  },
  {
   "cell_type": "code",
   "execution_count": 24,
   "id": "4bba0cd4",
   "metadata": {},
   "outputs": [
    {
     "data": {
      "text/plain": [
       "True"
      ]
     },
     "execution_count": 24,
     "metadata": {},
     "output_type": "execute_result"
    }
   ],
   "source": [
    "from langgraph.graph import StateGraph,START,END\n",
    "from langgraph.checkpoint.memory import MemorySaver\n",
    "from langgraph.graph.message import add_messages\n",
    "from langgraph.prebuilt import ToolNode,tools_condition\n",
    "from langgraph.types import Command,interrupt       # To provide Humman feed back\n",
    "\n",
    "from langchain_core.tools import tool\n",
    "\n",
    "from typing import  TypedDict,Annotated\n",
    "from dotenv import load_dotenv\n",
    "import warnings\n",
    "warnings.filterwarnings(\"ignore\")\n",
    "load_dotenv()"
   ]
  },
  {
   "cell_type": "code",
   "execution_count": 25,
   "id": "e8f27578",
   "metadata": {},
   "outputs": [],
   "source": [
    "class State(TypedDict):\n",
    "    messages:Annotated[list,add_messages]"
   ]
  },
  {
   "cell_type": "code",
   "execution_count": 26,
   "metadata": {},
   "outputs": [],
   "source": [
    "from langchain_openai import ChatOpenAI\n",
    "llm = ChatOpenAI(model=\"gpt-4.1-nano\")"
   ]
  },
  {
   "cell_type": "code",
   "execution_count": 27,
   "id": "dcf43024",
   "metadata": {},
   "outputs": [],
   "source": [
    "from langchain_tavily import TavilySearch\n",
    "\n",
    "search = TavilySearch()"
   ]
  },
  {
   "cell_type": "code",
   "execution_count": 33,
   "id": "1ee0df52",
   "metadata": {},
   "outputs": [
    {
     "data": {
      "image/png": "[encoded data removed]",
      "text/plain": [
       "<IPython.core.display.Image object>"
      ]
     },
     "metadata": {},
     "output_type": "display_data"
    }
   ],
   "source": [
    "@tool\n",
    "def human_assistance(query: str):\n",
    "    \"\"\"Request assistance from a human.\"\"\"\n",
    "    human_response = yield interrupt({\"query\": query})\n",
    "    return human_response[\"data\"]\n",
    "\n",
    "tools = [search,human_assistance]\n",
    "llm_with_tool = llm.bind_tools(tools)\n",
    "\n",
    "graph = StateGraph(State)\n",
    "\n",
    "def chatbot(state: State):\n",
    "    response = llm_with_tool.invoke(state['messages'])\n",
    "    return {\"messages\": [response]}\n",
    "\n",
    "\n",
    "\n",
    "graph.add_node(\"chatbot\",chatbot)\n",
    "graph.add_edge(START,\"chatbot\")\n",
    "\n",
    "tool_node = ToolNode(tools)\n",
    "graph.add_node(\"tools\",tool_node)\n",
    "\n",
    "graph.add_conditional_edges(\n",
    "    \"chatbot\",\n",
    "    tools_condition)\n",
    "\n",
    "\n",
    "graph.add_edge(\"tools\",\"chatbot\")\n",
    "\n",
    "\n",
    "memory = MemorySaver()\n",
    "\n",
    "app = graph.compile(checkpointer=memory)\n",
    "\n",
    "from IPython.display import display,Image\n",
    "display(Image(app.get_graph().draw_mermaid_png()))"
   ]
  },
  {
   "cell_type": "code",
   "execution_count": 37,
   "id": "b99dbe8b",
   "metadata": {},
   "outputs": [
    {
     "name": "stdout",
     "output_type": "stream",
     "text": [
      "================================\u001b[1m Human Message \u001b[0m=================================\n",
      "\n",
      "I need some expert guidance and assistance for building an AI agent. Could you request assistance for me?\n",
      "==================================\u001b[1m Ai Message \u001b[0m==================================\n",
      "Tool Calls:\n",
      "  human_assistance (call_UTaK0NsjQjwIxZF60hbhPI0R)\n",
      " Call ID: call_UTaK0NsjQjwIxZF60hbhPI0R\n",
      "  Args:\n",
      "    query: Request expert guidance and assistance for building an AI agent\n",
      "=================================\u001b[1m Tool Message \u001b[0m=================================\n",
      "Name: human_assistance\n",
      "\n",
      "<generator object human_assistance at 0x00000294FA6FC1E0>\n",
      "==================================\u001b[1m Ai Message \u001b[0m==================================\n",
      "\n",
      "I have sent a request for expert guidance and assistance in building an AI agent. If you need further help or specific information, please let me know!\n"
     ]
    }
   ],
   "source": [
    "user_input = \"I need some expert guidance and assistance for building an AI agent. Could you request assistance for me?\"\n",
    "config = {\"configurable\": {\"thread_id\": \"1\"}}\n",
    "\n",
    "events = app.stream(\n",
    "    {\"messages\": user_input},\n",
    "    config,\n",
    "    stream_mode=\"values\",\n",
    ")\n",
    "for event in events:\n",
    "    if \"messages\" in event:\n",
    "        event[\"messages\"][-1].pretty_print()"
   ]
  },
  {
   "cell_type": "code",
   "execution_count": 38,
   "id": "518e8aae",
   "metadata": {},
   "outputs": [
    {
     "name": "stdout",
     "output_type": "stream",
     "text": [
      "==================================\u001b[1m Ai Message \u001b[0m==================================\n",
      "\n",
      "I have sent a request for expert guidance and assistance in building an AI agent. If you need further help or specific information, please let me know!\n"
     ]
    }
   ],
   "source": [
    "humman_Response = \"\"\" we are the expert in langgraph we recomend to you to check langgraph official documents.\n",
    "\"\"\"\n",
    "\n",
    "\n",
    "human = Command(resume={\"data\":humman_Response})\n",
    "\n",
    "events = app.stream(\n",
    "    human,\n",
    "    config,\n",
    "    stream_mode=\"values\",\n",
    ")\n",
    "for event in events:\n",
    "    if \"messages\" in event:\n",
    "        event[\"messages\"][-1].pretty_print()\n"
   ]
  },
  {
   "cell_type": "code",
   "execution_count": null,
   "id": "1a25f811",
   "metadata": {},
   "outputs": [],
   "source": []
  }
 ],
 "metadata": {
  "kernelspec": {
   "display_name": ".venv",
   "language": "python",
   "name": "python3"
  },
  "language_info": {
   "codemirror_mode": {
    "name": "ipython",
    "version": 3
   },
   "file_extension": ".py",
   "mimetype": "text/x-python",
   "name": "python",
   "nbconvert_exporter": "python",
   "pygments_lexer": "ipython3",
   "version": "3.12.7"
  }
 },
 "nbformat": 4,
 "nbformat_minor": 5
}
